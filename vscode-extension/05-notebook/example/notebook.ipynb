{
  "cells": [
    {
      "cell_type": "markdown",
      "metadata": {},
      "source": [
        "# Your Custom Renderer"
      ]
    },
    {
      "cell_type": "markdown",
      "metadata": {},
      "source": [
        "This is a Jupyter notebook file. Down below, we've created output as if a cell was executed and generated `x-application/custom-json-output` output. You can use the **View: Reopen Editor With...** command to view the JSON source of this notebook and change the output data. Or, you can installed the Python extension (for example) and replace the code cell below with one that generates the output you expect"
      ]
    },
    {
      "cell_type": "code",
      "execution_count": 1,
      "metadata": {},
      "outputs": [
        {
          "data": {
            "x-application/custom-json-output": {
              "hello": "world!"
            }
          },
          "execution_count": 1,
          "metadata": {},
          "output_type": "execute_result"
        }
      ],
      "source": [
        "# <code that creates x-application/custom-json-output output>"
      ]
    }
  ],
  "metadata": {
    "language_info": {
      "name": "plaintext"
    },
    "orig_nbformat": 4
  },
  "nbformat": 4,
  "nbformat_minor": 2
}
